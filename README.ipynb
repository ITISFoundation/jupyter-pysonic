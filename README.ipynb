{
 "cells": [
  {
   "attachments": {},
   "cell_type": "markdown",
   "id": "67bb6fe5-38a1-472e-bf7c-9a300da42cb7",
   "metadata": {},
   "source": [
    "# Before starting\n",
    "\n",
    "#### Directories and usage:\n",
    "* **You are here:** `~/work/workspace` this is the current directory when the JupyterLab is opened and where you should save your files. \n",
    "\n",
    "* **Inputs from upstream services:** `~/work/inputs` (equivalent to `/home/jovyan/work/inputs`) contains inputs incoming from the outputs of the previous node. *Warning: do not write files in this directory or they will be erased.* *Jovyan* is the username in this Jupyterlab (and it is the same for all o²S²PARC users)\n",
    "\n",
    "* **This service's Outputs:** the contents of `~/work/outputs/outputs_1`, `~/work/outputs/outputs_2`, `~/work/outputs/outputs_3` and `~/work/outputs/outputs_4` will be accessible to connected downstream nodes. *Warning: do not add files into `~/work/outputs` base directory or they will be erased.*\n",
    "\n",
    "\n",
    "\n",
    "#### Good Practices\n",
    "* **Return to Dashboard often:** data are versioned ONLY when you have saved the file in JupyterLab AND after you return to the Dashboard from your study. We advise you to go back to the Dashboard often to avoid losing work.*\n",
    "* **I don't see `inputs` or `outputs`:** `~/work/` (one folder up from the current directory) is where you can find the `inputs` and `outputs` directories. Write access to this folder has been disabled. You can only create files and directories in:\n",
    "  * `~/work/workspace`\n",
    "  * `~/work/outputs/outputs_1`\n",
    "  * `~/work/outputs/outputs_2`\n",
    "  * `~/work/outputs/outputs_3`\n",
    "  * `~/work/outputs/outputs_4`\n",
    "* **Do  not write files directly to outputs:** if your code generates files, we recommend writing them first to a temporary directory (e.g. in `~/work/workspace`) and then moving them to the desired `~/work/outputs/output_X` directory after completion. Otherwise, data synchronisation may start while the file is being written to, which may result in a corrupted file in output.\n",
    "\n",
    "#### Python dependency installation\n",
    "**To correctly install a python dependency,** for example `numpy`, in a new code cell inside the notebook use the following\n",
    "```python\n",
    "import sys\n",
    "!{sys.executable} -m pip install numpy\n",
    "```\n",
    "For more details see [Installing Python Packages from a Jupyter Notebook](https://jakevdp.github.io/blog/2017/12/05/installing-python-packages-from-jupyter/#How-to-use-Pip-from-the-Jupyter-Notebook).\n",
    "\n",
    "#### Voila mode\n",
    "\n",
    "This JupyterLab supports boot as voila mode. \n",
    "\n",
    "* **While developing:** you can see how your voila notebook looks like by using the preview button (see red rectangle below):\n",
    "\n",
    "\n",
    "  ![img](https://github.com/ITISFoundation/osparc-assets/blob/main/assets/Jupyterlab_voila_button.png?raw=true)\n",
    "\n",
    "* **Start in voila mode:** when you are happy with the results, you can start the notebook as voila, set the Boot Mode of `JupyterLab` to `Voila` in the platform:\n",
    "  1. Inside the Jupyterlab: make sure your notebook is called `voila.ipynb` and save it the `~/work/workspace/` directory.\n",
    "  2. Go to the [Workbench](https://docs.osparc.io/#/docs/platform_introduction/studies?id=study-workbench) and select the \"Options\" tabs (gears icon)\n",
    "  3. In \"Boot options\", follow the instructions (\"Stop\" → select \"Voila\" in the drop-down → \"Start\").\n",
    "  \n",
    "  After changing these settings, the notebook will no longer start as JupyterLab but as Voila. You can change it back to Jupyterlab by following the same steps.\n",
    "\n",
    "To learn more about Voila, see here: https://github.com/voila-dashboards/voila\n",
    "\n",
    "\n",
    "#### Have an issue?\n",
    "\n",
    "Please open an issue on GitHab at [ITISFoundation/jupyter-pysonic/issues](https://github.com/ITISFoundation/jupyter-pysonic/issues)"
   ]
  },
  {
   "attachments": {},
   "cell_type": "markdown",
   "id": "fdc3059f",
   "metadata": {},
   "source": []
  }
 ],
 "metadata": {
  "kernelspec": {
   "display_name": "Python 3",
   "language": "python",
   "name": "python3"
  },
  "language_info": {
   "codemirror_mode": {
    "name": "ipython",
    "version": 3
   },
   "file_extension": ".py",
   "mimetype": "text/x-python",
   "name": "python",
   "nbconvert_exporter": "python",
   "pygments_lexer": "ipython3",
   "version": "3.8.10"
  },
  "vscode": {
   "interpreter": {
    "hash": "916dbcbb3f70747c44a77c7bcd40155683ae19c65e1c03b4aa3499c5328201f1"
   }
  }
 },
 "nbformat": 4,
 "nbformat_minor": 5
}
